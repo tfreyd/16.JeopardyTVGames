{
 "cells": [
  {
   "cell_type": "markdown",
   "metadata": {
    "collapsed": true
   },
   "source": [
    "# Patterns in the Jeopardy's questions \n",
    "Jeopardy is a popular TV show in the US where participants answer questions to win money. It's been running for a few decades, and is a major force in popular culture.\n",
    "\n",
    "We gonna used a samples of 20K to investigate if there are some patterns that could help us to win when it will our turn to participate to the game. \n",
    "the fll data set is available :https://www.reddit.com/r/datasets/comments/1uyd0t/200000_jeopardy_questions_in_a_json_file\n",
    "\n",
    "solution available:https://github.com/dataquestio/solutions/blob/master/Mission210Solution.ipynb\n",
    "\n",
    "**The info in the sample dataset:**\n",
    "\n",
    "- Show Number -- the Jeopardy episode number of the show this question was in.\n",
    "- Air Date -- the date the episode aired.\n",
    "- Round -- the round of Jeopardy that the question was asked in. Jeopardy has several rounds as each episode progresses.\n",
    "- Category -- the category of the question.\n",
    "- Value -- the number of dollars answering the question correctly is worth.\n",
    "- Question -- the text of the question.\n",
    "- Answer -- the text of the answer."
   ]
  },
  {
   "cell_type": "markdown",
   "metadata": {},
   "source": [
    "## Exploring the data and cleaning"
   ]
  },
  {
   "cell_type": "code",
   "execution_count": 19,
   "metadata": {
    "collapsed": false
   },
   "outputs": [],
   "source": [
    "import pandas as pd\n",
    "import numpy as np\n",
    "import matplotlib.pyplot as plt\n",
    "%matplotlib inline"
   ]
  },
  {
   "cell_type": "code",
   "execution_count": 20,
   "metadata": {
    "collapsed": false
   },
   "outputs": [],
   "source": [
    "questions=pd.read_csv('jeopardy.csv',infer_datetime_format=True)"
   ]
  },
  {
   "cell_type": "code",
   "execution_count": 21,
   "metadata": {
    "collapsed": false
   },
   "outputs": [],
   "source": [
    "#removing the space bedore the columns \n",
    "questions.columns = questions.columns.str.replace(' ','') #we let everyting as camel case, I am fine with that"
   ]
  },
  {
   "cell_type": "code",
   "execution_count": 22,
   "metadata": {
    "collapsed": false
   },
   "outputs": [
    {
     "data": {
      "text/html": [
       "<div>\n",
       "<style scoped>\n",
       "    .dataframe tbody tr th:only-of-type {\n",
       "        vertical-align: middle;\n",
       "    }\n",
       "\n",
       "    .dataframe tbody tr th {\n",
       "        vertical-align: top;\n",
       "    }\n",
       "\n",
       "    .dataframe thead th {\n",
       "        text-align: right;\n",
       "    }\n",
       "</style>\n",
       "<table border=\"1\" class=\"dataframe\">\n",
       "  <thead>\n",
       "    <tr style=\"text-align: right;\">\n",
       "      <th></th>\n",
       "      <th>ShowNumber</th>\n",
       "      <th>AirDate</th>\n",
       "      <th>Round</th>\n",
       "      <th>Category</th>\n",
       "      <th>Value</th>\n",
       "      <th>Question</th>\n",
       "      <th>Answer</th>\n",
       "    </tr>\n",
       "  </thead>\n",
       "  <tbody>\n",
       "    <tr>\n",
       "      <th>0</th>\n",
       "      <td>4680</td>\n",
       "      <td>2004-12-31</td>\n",
       "      <td>Jeopardy!</td>\n",
       "      <td>HISTORY</td>\n",
       "      <td>$200</td>\n",
       "      <td>For the last 8 years of his life, Galileo was ...</td>\n",
       "      <td>Copernicus</td>\n",
       "    </tr>\n",
       "    <tr>\n",
       "      <th>1</th>\n",
       "      <td>4680</td>\n",
       "      <td>2004-12-31</td>\n",
       "      <td>Jeopardy!</td>\n",
       "      <td>ESPN's TOP 10 ALL-TIME ATHLETES</td>\n",
       "      <td>$200</td>\n",
       "      <td>No. 2: 1912 Olympian; football star at Carlisl...</td>\n",
       "      <td>Jim Thorpe</td>\n",
       "    </tr>\n",
       "    <tr>\n",
       "      <th>2</th>\n",
       "      <td>4680</td>\n",
       "      <td>2004-12-31</td>\n",
       "      <td>Jeopardy!</td>\n",
       "      <td>EVERYBODY TALKS ABOUT IT...</td>\n",
       "      <td>$200</td>\n",
       "      <td>The city of Yuma in this state has a record av...</td>\n",
       "      <td>Arizona</td>\n",
       "    </tr>\n",
       "    <tr>\n",
       "      <th>3</th>\n",
       "      <td>4680</td>\n",
       "      <td>2004-12-31</td>\n",
       "      <td>Jeopardy!</td>\n",
       "      <td>THE COMPANY LINE</td>\n",
       "      <td>$200</td>\n",
       "      <td>In 1963, live on \"The Art Linkletter Show\", th...</td>\n",
       "      <td>McDonald's</td>\n",
       "    </tr>\n",
       "    <tr>\n",
       "      <th>4</th>\n",
       "      <td>4680</td>\n",
       "      <td>2004-12-31</td>\n",
       "      <td>Jeopardy!</td>\n",
       "      <td>EPITAPHS &amp; TRIBUTES</td>\n",
       "      <td>$200</td>\n",
       "      <td>Signer of the Dec. of Indep., framer of the Co...</td>\n",
       "      <td>John Adams</td>\n",
       "    </tr>\n",
       "  </tbody>\n",
       "</table>\n",
       "</div>"
      ],
      "text/plain": [
       "   ShowNumber     AirDate      Round                         Category Value  \\\n",
       "0        4680  2004-12-31  Jeopardy!                          HISTORY  $200   \n",
       "1        4680  2004-12-31  Jeopardy!  ESPN's TOP 10 ALL-TIME ATHLETES  $200   \n",
       "2        4680  2004-12-31  Jeopardy!      EVERYBODY TALKS ABOUT IT...  $200   \n",
       "3        4680  2004-12-31  Jeopardy!                 THE COMPANY LINE  $200   \n",
       "4        4680  2004-12-31  Jeopardy!              EPITAPHS & TRIBUTES  $200   \n",
       "\n",
       "                                            Question      Answer  \n",
       "0  For the last 8 years of his life, Galileo was ...  Copernicus  \n",
       "1  No. 2: 1912 Olympian; football star at Carlisl...  Jim Thorpe  \n",
       "2  The city of Yuma in this state has a record av...     Arizona  \n",
       "3  In 1963, live on \"The Art Linkletter Show\", th...  McDonald's  \n",
       "4  Signer of the Dec. of Indep., framer of the Co...  John Adams  "
      ]
     },
     "execution_count": 22,
     "metadata": {},
     "output_type": "execute_result"
    }
   ],
   "source": [
    "questions.head()"
   ]
  },
  {
   "cell_type": "code",
   "execution_count": 23,
   "metadata": {
    "collapsed": false
   },
   "outputs": [
    {
     "data": {
      "text/plain": [
       "Index(['ShowNumber', 'AirDate', 'Round', 'Category', 'Value', 'Question',\n",
       "       'Answer'],\n",
       "      dtype='object')"
      ]
     },
     "execution_count": 23,
     "metadata": {},
     "output_type": "execute_result"
    }
   ],
   "source": [
    "questions.columns"
   ]
  },
  {
   "cell_type": "markdown",
   "metadata": {},
   "source": [
    "## Normalized text"
   ]
  },
  {
   "cell_type": "code",
   "execution_count": 24,
   "metadata": {
    "collapsed": false
   },
   "outputs": [],
   "source": [
    "import re\n",
    "\n",
    "#remove Upper case and punctuation (regex)\n",
    "def normalize_text(text):\n",
    "    text = text.lower()\n",
    "    text = re.sub(\"[^A-Za-z0-9\\s]\", \"\", text)\n",
    "    return text\n",
    "\n",
    "#fixing the value col\n",
    "def normalize_values(text):\n",
    "    text = re.sub(\"[^A-Za-z0-9\\s]\", \"\", text)\n",
    "    try:\n",
    "        text = int(text)\n",
    "    except Exception:\n",
    "        text = 0\n",
    "    return text\n"
   ]
  },
  {
   "cell_type": "code",
   "execution_count": 25,
   "metadata": {
    "collapsed": false
   },
   "outputs": [],
   "source": [
    "#question col\n",
    "questions['clean_question'] = questions['Question'].apply(normalize_text)\n",
    "\n",
    "#answer col\n",
    "questions['clean_answer'] = questions['Answer'].apply(normalize_text)\n",
    "\n",
    "#value col \n",
    "questions['clean_value'] = questions['Value'].apply(normalize_values)\n",
    "\n",
    "#fix the column AirDate\n",
    "questions['AirDate'] = pd.to_datetime(questions['AirDate'])"
   ]
  },
  {
   "cell_type": "code",
   "execution_count": 26,
   "metadata": {
    "collapsed": false
   },
   "outputs": [
    {
     "data": {
      "text/plain": [
       "ShowNumber                 int64\n",
       "AirDate           datetime64[ns]\n",
       "Round                     object\n",
       "Category                  object\n",
       "Value                     object\n",
       "Question                  object\n",
       "Answer                    object\n",
       "clean_question            object\n",
       "clean_answer              object\n",
       "clean_value                int64\n",
       "dtype: object"
      ]
     },
     "execution_count": 26,
     "metadata": {},
     "output_type": "execute_result"
    }
   ],
   "source": [
    "questions.dtypes"
   ]
  },
  {
   "cell_type": "code",
   "execution_count": 27,
   "metadata": {
    "collapsed": false
   },
   "outputs": [
    {
     "data": {
      "text/html": [
       "<div>\n",
       "<style scoped>\n",
       "    .dataframe tbody tr th:only-of-type {\n",
       "        vertical-align: middle;\n",
       "    }\n",
       "\n",
       "    .dataframe tbody tr th {\n",
       "        vertical-align: top;\n",
       "    }\n",
       "\n",
       "    .dataframe thead th {\n",
       "        text-align: right;\n",
       "    }\n",
       "</style>\n",
       "<table border=\"1\" class=\"dataframe\">\n",
       "  <thead>\n",
       "    <tr style=\"text-align: right;\">\n",
       "      <th></th>\n",
       "      <th>ShowNumber</th>\n",
       "      <th>AirDate</th>\n",
       "      <th>Round</th>\n",
       "      <th>Category</th>\n",
       "      <th>Value</th>\n",
       "      <th>Question</th>\n",
       "      <th>Answer</th>\n",
       "      <th>clean_question</th>\n",
       "      <th>clean_answer</th>\n",
       "      <th>clean_value</th>\n",
       "    </tr>\n",
       "  </thead>\n",
       "  <tbody>\n",
       "    <tr>\n",
       "      <th>19994</th>\n",
       "      <td>3582</td>\n",
       "      <td>2000-03-14</td>\n",
       "      <td>Jeopardy!</td>\n",
       "      <td>U.S. GEOGRAPHY</td>\n",
       "      <td>$200</td>\n",
       "      <td>Of 8, 12 or 18, the number of U.S. states that...</td>\n",
       "      <td>18</td>\n",
       "      <td>of 8 12 or 18 the number of us states that tou...</td>\n",
       "      <td>18</td>\n",
       "      <td>200</td>\n",
       "    </tr>\n",
       "    <tr>\n",
       "      <th>19995</th>\n",
       "      <td>3582</td>\n",
       "      <td>2000-03-14</td>\n",
       "      <td>Jeopardy!</td>\n",
       "      <td>POP MUSIC PAIRINGS</td>\n",
       "      <td>$200</td>\n",
       "      <td>...&amp; the New Power Generation</td>\n",
       "      <td>Prince</td>\n",
       "      <td>the new power generation</td>\n",
       "      <td>prince</td>\n",
       "      <td>200</td>\n",
       "    </tr>\n",
       "    <tr>\n",
       "      <th>19996</th>\n",
       "      <td>3582</td>\n",
       "      <td>2000-03-14</td>\n",
       "      <td>Jeopardy!</td>\n",
       "      <td>HISTORIC PEOPLE</td>\n",
       "      <td>$200</td>\n",
       "      <td>In 1589 he was appointed professor of mathemat...</td>\n",
       "      <td>Galileo</td>\n",
       "      <td>in 1589 he was appointed professor of mathemat...</td>\n",
       "      <td>galileo</td>\n",
       "      <td>200</td>\n",
       "    </tr>\n",
       "    <tr>\n",
       "      <th>19997</th>\n",
       "      <td>3582</td>\n",
       "      <td>2000-03-14</td>\n",
       "      <td>Jeopardy!</td>\n",
       "      <td>1998 QUOTATIONS</td>\n",
       "      <td>$200</td>\n",
       "      <td>Before the grand jury she said, \"I'm really so...</td>\n",
       "      <td>Monica Lewinsky</td>\n",
       "      <td>before the grand jury she said im really sorry...</td>\n",
       "      <td>monica lewinsky</td>\n",
       "      <td>200</td>\n",
       "    </tr>\n",
       "    <tr>\n",
       "      <th>19998</th>\n",
       "      <td>3582</td>\n",
       "      <td>2000-03-14</td>\n",
       "      <td>Jeopardy!</td>\n",
       "      <td>LLAMA-RAMA</td>\n",
       "      <td>$200</td>\n",
       "      <td>Llamas are the heftiest South American members...</td>\n",
       "      <td>Camels</td>\n",
       "      <td>llamas are the heftiest south american members...</td>\n",
       "      <td>camels</td>\n",
       "      <td>200</td>\n",
       "    </tr>\n",
       "  </tbody>\n",
       "</table>\n",
       "</div>"
      ],
      "text/plain": [
       "       ShowNumber    AirDate      Round            Category Value  \\\n",
       "19994        3582 2000-03-14  Jeopardy!      U.S. GEOGRAPHY  $200   \n",
       "19995        3582 2000-03-14  Jeopardy!  POP MUSIC PAIRINGS  $200   \n",
       "19996        3582 2000-03-14  Jeopardy!     HISTORIC PEOPLE  $200   \n",
       "19997        3582 2000-03-14  Jeopardy!     1998 QUOTATIONS  $200   \n",
       "19998        3582 2000-03-14  Jeopardy!          LLAMA-RAMA  $200   \n",
       "\n",
       "                                                Question           Answer  \\\n",
       "19994  Of 8, 12 or 18, the number of U.S. states that...               18   \n",
       "19995                      ...& the New Power Generation           Prince   \n",
       "19996  In 1589 he was appointed professor of mathemat...          Galileo   \n",
       "19997  Before the grand jury she said, \"I'm really so...  Monica Lewinsky   \n",
       "19998  Llamas are the heftiest South American members...           Camels   \n",
       "\n",
       "                                          clean_question     clean_answer  \\\n",
       "19994  of 8 12 or 18 the number of us states that tou...               18   \n",
       "19995                           the new power generation           prince   \n",
       "19996  in 1589 he was appointed professor of mathemat...          galileo   \n",
       "19997  before the grand jury she said im really sorry...  monica lewinsky   \n",
       "19998  llamas are the heftiest south american members...           camels   \n",
       "\n",
       "       clean_value  \n",
       "19994          200  \n",
       "19995          200  \n",
       "19996          200  \n",
       "19997          200  \n",
       "19998          200  "
      ]
     },
     "execution_count": 27,
     "metadata": {},
     "output_type": "execute_result"
    }
   ],
   "source": [
    "questions.tail()"
   ]
  },
  {
   "cell_type": "markdown",
   "metadata": {},
   "source": [
    "## Answers in questions\n",
    "In order to figure out whether to study past questions, study general knowledge, or not study it all, it would be helpful to figure out two things:\n",
    "\n",
    "- How often the answer is deducible from the question?\n",
    "- How often new questions are repeats of older questions?"
   ]
  },
  {
   "cell_type": "markdown",
   "metadata": {},
   "source": [
    "In the following we gonna write a function that will look if the answer is in the question."
   ]
  },
  {
   "cell_type": "code",
   "execution_count": 28,
   "metadata": {
    "collapsed": false
   },
   "outputs": [],
   "source": [
    "def answer_in_question(row):\n",
    "    row = row.str.split(\" \")\n",
    "    split_question = row[0]\n",
    "    split_answer=row[1]\n",
    "    \n",
    "    match_count=0\n",
    "    if 'the' in split_answer:\n",
    "        split_answer.remove('the')\n",
    "    #empty answer\n",
    "    if len(split_answer)==0:\n",
    "        return 0\n",
    "    for word in split_answer:\n",
    "        if word in split_question:\n",
    "            match_count += 1\n",
    "    return match_count  / len(split_answer)"
   ]
  },
  {
   "cell_type": "code",
   "execution_count": 29,
   "metadata": {
    "collapsed": false
   },
   "outputs": [],
   "source": [
    "questions['answer_in_question']= questions[['clean_question','clean_answer']].apply(answer_in_question,axis=1)"
   ]
  },
  {
   "cell_type": "code",
   "execution_count": 30,
   "metadata": {
    "collapsed": false
   },
   "outputs": [
    {
     "data": {
      "text/plain": [
       "0.000000    17375\n",
       "0.500000     1452\n",
       "0.333333      551\n",
       "0.250000      170\n",
       "1.000000      123\n",
       "0.666667      103\n",
       "0.200000       82\n",
       "0.166667       28\n",
       "0.400000       28\n",
       "0.142857       20\n",
       "0.750000       18\n",
       "0.285714       10\n",
       "0.600000        9\n",
       "0.125000        9\n",
       "0.428571        3\n",
       "0.181818        2\n",
       "0.800000        2\n",
       "0.571429        2\n",
       "0.300000        2\n",
       "0.111111        2\n",
       "0.307692        1\n",
       "0.444444        1\n",
       "0.222222        1\n",
       "0.375000        1\n",
       "0.100000        1\n",
       "0.153846        1\n",
       "0.875000        1\n",
       "0.272727        1\n",
       "Name: answer_in_question, dtype: int64"
      ]
     },
     "execution_count": 30,
     "metadata": {},
     "output_type": "execute_result"
    }
   ],
   "source": [
    "questions['answer_in_question'].value_counts()"
   ]
  },
  {
   "cell_type": "code",
   "execution_count": 31,
   "metadata": {
    "collapsed": false
   },
   "outputs": [
    {
     "data": {
      "text/plain": [
       "0.06049325706933587"
      ]
     },
     "execution_count": 31,
     "metadata": {},
     "output_type": "execute_result"
    }
   ],
   "source": [
    "questions['answer_in_question'].mean()"
   ]
  },
  {
   "cell_type": "markdown",
   "metadata": {},
   "source": [
    "As we see with the 2 blocs above, the answer or part of it appears in the questions only for 6% of the the 20k questions. so good luck if you hope to win just for that, still 6% increase chances to win .... "
   ]
  },
  {
   "cell_type": "markdown",
   "metadata": {},
   "source": [
    "## Recycled questions"
   ]
  },
  {
   "cell_type": "code",
   "execution_count": 32,
   "metadata": {
    "collapsed": false
   },
   "outputs": [],
   "source": [
    "#sort in ascending chronological order\n",
    "questions = questions.sort_values('AirDate')"
   ]
  },
  {
   "cell_type": "code",
   "execution_count": 33,
   "metadata": {
    "collapsed": false
   },
   "outputs": [],
   "source": [
    "def question_recycling(row):\n",
    "    split_question = row.split(' ')\n",
    "    question_overlap=0\n",
    "    match_count=0\n",
    "    long_enough_words=[]\n",
    "    #creation of a list with the 'complex' hard\n",
    "    for word in split_question:\n",
    "        if len(word)>5:\n",
    "            long_enough_words.append(word)\n",
    "    \n",
    "    for word in long_enough_words:\n",
    "        if word in vocabulary_questions:\n",
    "            match_count += 1\n",
    "        if word not in vocabulary_questions:\n",
    "            vocabulary_questions.add(word)\n",
    "    if len(long_enough_words) >0:\n",
    "               question_overlap = match_count / len(long_enough_words)\n",
    "    return question_overlap"
   ]
  },
  {
   "cell_type": "code",
   "execution_count": 34,
   "metadata": {
    "collapsed": false
   },
   "outputs": [],
   "source": [
    "vocabulary_questions=set()\n",
    "questions['question_overlap']= questions['clean_question'].apply(question_recycling)\n"
   ]
  },
  {
   "cell_type": "code",
   "execution_count": 35,
   "metadata": {
    "collapsed": false
   },
   "outputs": [
    {
     "data": {
      "text/plain": [
       "<matplotlib.axes._subplots.AxesSubplot at 0x7fcea0c366a0>"
      ]
     },
     "execution_count": 35,
     "metadata": {},
     "output_type": "execute_result"
    },
    {
     "data": {
      "image/png": "[encoded data removed]",
      "text/plain": [
       "<matplotlib.figure.Figure at 0x7fcea0b65fd0>"
      ]
     },
     "metadata": {},
     "output_type": "display_data"
    }
   ],
   "source": [
    "questions['question_overlap'].plot.hist()"
   ]
  },
  {
   "cell_type": "code",
   "execution_count": 36,
   "metadata": {
    "collapsed": false
   },
   "outputs": [
    {
     "data": {
      "text/plain": [
       "0.6894031359073245"
      ]
     },
     "execution_count": 36,
     "metadata": {},
     "output_type": "execute_result"
    }
   ],
   "source": [
    "questions['question_overlap'].mean()"
   ]
  },
  {
   "cell_type": "markdown",
   "metadata": {},
   "source": [
    "There is about 70% overlap between terms in new questions and terms in old questions. This only looks at a small set of questions, and it doesn't look at phrases, it looks at single terms. This makes it relatively insignificant, but it does mean that it's worth looking more into the recycling of questions."
   ]
  },
  {
   "cell_type": "markdown",
   "metadata": {
    "collapsed": true
   },
   "source": [
    "## Low value vs high value questions\n",
    "We are wondering that we want to study only the questions that have a hih values to maximise our wining when we will be on air ! \n",
    "\n",
    "With a chi-squared test we can figure out which terms corresponding to high-value questions.\n",
    "\n",
    "the strategy:\n",
    "- we already build a vocabulary list of complicated terms employed, \n",
    "    - we take a sample of 10 words from this list\n",
    "- questions will be labeled a high or low value \n",
    "    - we count how many time the 10 words are used in the high and low value questions\n",
    "\n",
    "        **=> this gets us the observed values**"
   ]
  },
  {
   "cell_type": "code",
   "execution_count": 43,
   "metadata": {
    "collapsed": false
   },
   "outputs": [
    {
     "name": "stdout",
     "output_type": "stream",
     "text": [
      "0.5642782139106955\n",
      "0.1490074503725186\n",
      "0.28671433571678584\n"
     ]
    }
   ],
   "source": [
    "print(questions[questions['clean_value']<800].shape[0]/len(questions))\n",
    "print(questions[questions['clean_value']==800].count()[0]/len(questions))\n",
    "print(questions[questions['clean_value']>800].count()[0]/len(questions))"
   ]
  },
  {
   "cell_type": "markdown",
   "metadata": {},
   "source": [
    "if we consider 800 at our split value, there are 56% of the questions below 800$, 15% at 800 and 28% considered as high values questions."
   ]
  },
  {
   "cell_type": "code",
   "execution_count": 69,
   "metadata": {
    "collapsed": false,
    "scrolled": true
   },
   "outputs": [
    {
     "data": {
      "text/plain": [
       "<matplotlib.legend.Legend at 0x7fcea0504da0>"
      ]
     },
     "execution_count": 69,
     "metadata": {},
     "output_type": "execute_result"
    },
    {
     "data": {
      "image/png": "[encoded data removed]",
      "text/plain": [
       "<matplotlib.figure.Figure at 0x7fcea0456a90>"
      ]
     },
     "metadata": {},
     "output_type": "display_data"
    }
   ],
   "source": [
    "questions['clean_value'].plot.hist(bins=50,label='values q')\n",
    "plt.axvline(800,color='red',label='split high value')\n",
    "plt.legend()"
   ]
  },
  {
   "cell_type": "markdown",
   "metadata": {},
   "source": [
    "=>let's labeled the questions as high value (>800)"
   ]
  },
  {
   "cell_type": "code",
   "execution_count": 99,
   "metadata": {
    "collapsed": true
   },
   "outputs": [],
   "source": [
    "#labeling high value q\n",
    "questions['high'] = questions['clean_value'].apply(lambda x: 1 if (x > 800) else 0)"
   ]
  },
  {
   "cell_type": "markdown",
   "metadata": {},
   "source": [
    "the following questions help to count how many times a word was used in high and low value questions\n",
    "it helps to have the expected value for the chi-sqare"
   ]
  },
  {
   "cell_type": "code",
   "execution_count": 126,
   "metadata": {
    "collapsed": false
   },
   "outputs": [],
   "source": [
    "def counting_use(word):\n",
    "    low_count=0\n",
    "    high_count=0\n",
    "    for i, row in questions.iterrows():\n",
    "        split_question=row['clean_question'].split()\n",
    "        high_value = row['high']\n",
    "        if word in split_question:\n",
    "            if high_value == 1:\n",
    "                high_count += 1\n",
    "            else:\n",
    "                low_count += 1\n",
    "\n",
    "    return high_count, low_count\n"
   ]
  },
  {
   "cell_type": "markdown",
   "metadata": {},
   "source": [
    "we might wonder, what words to use, we defined earlier a list of unique terms ( and 'complicated' with len >5) we gonna see if they can be associated with high value questions"
   ]
  },
  {
   "cell_type": "code",
   "execution_count": 143,
   "metadata": {
    "collapsed": false
   },
   "outputs": [
    {
     "name": "stdout",
     "output_type": "stream",
     "text": [
      "(0, 2)\n",
      "(0, 1)\n",
      "(0, 1)\n",
      "(0, 1)\n",
      "(2, 1)\n",
      "(0, 1)\n",
      "(0, 2)\n",
      "(2, 2)\n",
      "(1, 0)\n",
      "(1, 4)\n"
     ]
    }
   ],
   "source": [
    "#get 10 words from our vocabulary db\n",
    "\n",
    "import random\n",
    "comparison_terms = random.sample(vocabulary_questions, 10)\n",
    "\n",
    "observed_values=[]\n",
    "\n",
    "for term in comparison_terms:\n",
    "    #do not fogrget the function return high value and low value counts in that order\n",
    "    counts=counting_use(term)\n",
    "    print(counts)\n",
    "    observed_values.append(counts)"
   ]
  },
  {
   "cell_type": "markdown",
   "metadata": {},
   "source": [
    "##  Applyin the chi-squared test\n",
    "We computed our observed counts above, in the next blocs we gonna compute the expected counts\n",
    "by calculating the expecting proportion we should have for a given word"
   ]
  },
  {
   "cell_type": "code",
   "execution_count": 159,
   "metadata": {
    "collapsed": false
   },
   "outputs": [
    {
     "name": "stdout",
     "output_type": "stream",
     "text": [
      "[0 2] vs [0.57342867 1.42657133]\n",
      "value_test: 0.18383953104516373 p_value: 0.6680941623250602\n",
      "-----\n",
      "[0 1] vs [0.28671434 0.71328566]\n",
      "value_test: 0.18383953104516373 p_value: 0.6680941623250602\n",
      "-----\n",
      "[0 1] vs [0.28671434 0.71328566]\n",
      "value_test: 0.18383953104516373 p_value: 0.6680941623250602\n",
      "-----\n",
      "[0 1] vs [0.28671434 0.71328566]\n",
      "value_test: 0.18383953104516373 p_value: 0.6680941623250602\n",
      "-----\n",
      "[2 1] vs [0.86014301 2.13985699]\n",
      "value_test: 0.18383953104516373 p_value: 0.6680941623250602\n",
      "-----\n",
      "[0 1] vs [0.28671434 0.71328566]\n",
      "value_test: 0.18383953104516373 p_value: 0.6680941623250602\n",
      "-----\n",
      "[0 2] vs [0.57342867 1.42657133]\n",
      "value_test: 0.18383953104516373 p_value: 0.6680941623250602\n",
      "-----\n",
      "[2 2] vs [1.14685734 2.85314266]\n",
      "value_test: 0.18383953104516373 p_value: 0.6680941623250602\n",
      "-----\n",
      "[1 0] vs [0.28671434 0.71328566]\n",
      "value_test: 0.18383953104516373 p_value: 0.6680941623250602\n",
      "-----\n",
      "[1 4] vs [1.43357168 3.56642832]\n",
      "value_test: 0.18383953104516373 p_value: 0.6680941623250602\n",
      "-----\n"
     ]
    }
   ],
   "source": [
    "import numpy as np\n",
    "from scipy.stats import chisquare\n",
    "\n",
    "high_value_count= questions[questions['high']==1]['high'].count()\n",
    "low_value_count = questions[questions['high']==0]['high'].count()\n",
    "\n",
    "chi_squared=[]\n",
    "test=[]\n",
    "#computing the expected value\n",
    "lenght_set=len(questions)\n",
    "for i in observed_values:\n",
    "    total=sum(i)\n",
    "    total_prop = total / lenght_set\n",
    "    \n",
    "    expected_high_value_count = total_prop * high_value_count\n",
    "    expected_low_value_count = total_prop * low_value_count\n",
    "    \n",
    "    oberved_values=np.array([i[0],i[1]])\n",
    "    expected_values=np.array([expected_high_value_count,expected_low_value_count])\n",
    "    \n",
    "    print(oberved_values,'vs',expected_values)\n",
    "    \n",
    "    chi_squared.append(chisquare(oberved_values,expected_values))\n",
    "    \n",
    "    print('value_test:',chi_squared_value,'p_value:',p_value)\n",
    "    print('-----')\n"
   ]
  },
  {
   "cell_type": "code",
   "execution_count": 156,
   "metadata": {
    "collapsed": false
   },
   "outputs": [
    {
     "data": {
      "text/plain": [
       "[[0.803925692253768, 0.3699222378079571],\n",
       " [0.401962846126884, 0.5260772985705469],\n",
       " [0.401962846126884, 0.5260772985705469],\n",
       " [0.401962846126884, 0.5260772985705469],\n",
       " [2.1177104383031944, 0.14560406868264344],\n",
       " [0.401962846126884, 0.5260772985705469],\n",
       " [0.803925692253768, 0.3699222378079571],\n",
       " [0.889754963322559, 0.3455437191483468],\n",
       " [2.487792117195675, 0.11473257634454047],\n",
       " [0.18383953104516373, 0.6680941623250602]]"
      ]
     },
     "execution_count": 156,
     "metadata": {},
     "output_type": "execute_result"
    }
   ],
   "source": [
    "chi_squared"
   ]
  },
  {
   "cell_type": "markdown",
   "metadata": {},
   "source": [
    "The p_value for the Chi-squared are all quite high so there are no statistically significants difference in term of usage of the selected term between high and low value questions. \n",
    "But the frequencies were all lower than 5, so the chi-squared test isn't as valid. It would be better to run this test with only terms that have higher frequencies."
   ]
  },
  {
   "cell_type": "markdown",
   "metadata": {},
   "source": [
    "## Going further"
   ]
  },
  {
   "cell_type": "markdown",
   "metadata": {},
   "source": [
    "- Find a better way to eliminate non-informative words than just removing words that are less than 6 characters long. Some ideas:\n",
    "    - Manually create a list of words to remove, like the, than, etc.\n",
    "    - Find a list of stopwords to remove.\n",
    "    - Remove words that occur in more than a certain percentage (like 5%) of questions.\n",
    "- Perform the chi-squared test across more terms to see what terms have larger differences. This is hard to do currently because the code is slow, but here are some ideas:\n",
    "    - Use the apply method to make the code that calculates frequencies more efficient.\n",
    "    - Only select terms that have high frequencies across the dataset, and ignore the others.\n",
    "- Look more into the Category column and see if any interesting analysis can be done with it. Some ideas:\n",
    "    - See which categories appear the most often.\n",
    "    - Find the probability of each category appearing in each round.\n",
    "- Use the whole Jeopardy dataset (available here) instead of the subset we used in this mission.\n",
    "- Use phrases instead of single words when seeing if there's overlap between questions. Single words don't capture the whole context of the question well."
   ]
  },
  {
   "cell_type": "code",
   "execution_count": null,
   "metadata": {
    "collapsed": true
   },
   "outputs": [],
   "source": []
  }
 ],
 "metadata": {
  "kernelspec": {
   "display_name": "Python 3",
   "language": "python",
   "name": "python3"
  },
  "language_info": {
   "codemirror_mode": {
    "name": "ipython",
    "version": 3
   },
   "file_extension": ".py",
   "mimetype": "text/x-python",
   "name": "python",
   "nbconvert_exporter": "python",
   "pygments_lexer": "ipython3",
   "version": "3.4.3"
  }
 },
 "nbformat": 4,
 "nbformat_minor": 0
}
